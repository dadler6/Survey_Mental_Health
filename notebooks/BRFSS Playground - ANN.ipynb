{
 "cells": [
  {
   "cell_type": "markdown",
   "metadata": {},
   "source": [
    "# BRFSS Playground - ANN"
   ]
  },
  {
   "cell_type": "markdown",
   "metadata": {},
   "source": [
    "Make an ANN with Tensorflow to predict mental health issues"
   ]
  },
  {
   "cell_type": "code",
   "execution_count": 51,
   "metadata": {},
   "outputs": [],
   "source": [
    "import pandas as pd\n",
    "import numpy as np\n",
    "import tensorflow as tf\n",
    "from tensorflow import keras\n",
    "from sklearn.model_selection import train_test_split\n",
    "from sklearn.metrics import confusion_matrix"
   ]
  },
  {
   "cell_type": "code",
   "execution_count": 3,
   "metadata": {
    "collapsed": true
   },
   "outputs": [],
   "source": [
    "brfss_norm = pd.read_csv('../data/brfss_normed.csv.gz')"
   ]
  },
  {
   "cell_type": "code",
   "execution_count": 4,
   "metadata": {},
   "outputs": [
    {
     "data": {
      "text/plain": [
       "(96986, 63)"
      ]
     },
     "execution_count": 4,
     "metadata": {},
     "output_type": "execute_result"
    }
   ],
   "source": [
    "brfss_norm.shape"
   ]
  },
  {
   "cell_type": "markdown",
   "metadata": {},
   "source": [
    "### Small cleaning"
   ]
  },
  {
   "cell_type": "code",
   "execution_count": 64,
   "metadata": {},
   "outputs": [],
   "source": [
    "drop_vars = ['B_ID', 'SMP_WGHT', 'MNTL_HLTH_LEV_BRFSS', 'MENTAL_HEALTH_30_BRFSS']\n",
    "brfss_vars = [\n",
    "    c for c in brfss_norm.columns.values if c not in drop_vars\n",
    "]\n",
    "X = brfss_norm[brfss_vars].copy()\n",
    "y = brfss_norm['MNTL_HLTH_LEV_BRFSS'].copy()"
   ]
  },
  {
   "cell_type": "markdown",
   "metadata": {},
   "source": [
    "Split training/test"
   ]
  },
  {
   "cell_type": "code",
   "execution_count": 65,
   "metadata": {
    "collapsed": true
   },
   "outputs": [],
   "source": [
    "X_train, X_test, y_train, y_test = train_test_split(X, y, test_size=0.3, random_state=42)"
   ]
  },
  {
   "cell_type": "code",
   "execution_count": 66,
   "metadata": {},
   "outputs": [
    {
     "data": {
      "text/plain": [
       "(67890, 59)"
      ]
     },
     "execution_count": 66,
     "metadata": {},
     "output_type": "execute_result"
    }
   ],
   "source": [
    "X_train.shape"
   ]
  },
  {
   "cell_type": "code",
   "execution_count": 67,
   "metadata": {},
   "outputs": [
    {
     "data": {
      "text/plain": [
       "array([1., 0., 2.])"
      ]
     },
     "execution_count": 67,
     "metadata": {},
     "output_type": "execute_result"
    }
   ],
   "source": [
    "y_train.unique()"
   ]
  },
  {
   "cell_type": "markdown",
   "metadata": {},
   "source": [
    "### Training - All Variables"
   ]
  },
  {
   "cell_type": "code",
   "execution_count": 78,
   "metadata": {
    "collapsed": true
   },
   "outputs": [],
   "source": [
    "model = keras.Sequential([\n",
    "    keras.layers.Dense(59, activation=tf.nn.relu),\n",
    "    keras.layers.Dense(3, activation=tf.nn.softmax)\n",
    "])"
   ]
  },
  {
   "cell_type": "code",
   "execution_count": 79,
   "metadata": {},
   "outputs": [],
   "source": [
    "model.compile(optimizer=tf.train.AdamOptimizer(), \n",
    "              loss='sparse_categorical_crossentropy',\n",
    "              metrics=['accuracy'])"
   ]
  },
  {
   "cell_type": "code",
   "execution_count": 80,
   "metadata": {},
   "outputs": [
    {
     "name": "stderr",
     "output_type": "stream",
     "text": [
      "/Users/daadler0309/anaconda/lib/python3.5/site-packages/ipykernel/__main__.py:1: FutureWarning: Method .as_matrix will be removed in a future version. Use .values instead.\n",
      "  if __name__ == '__main__':\n"
     ]
    },
    {
     "name": "stdout",
     "output_type": "stream",
     "text": [
      "Epoch 1/5\n",
      "67890/67890 [==============================] - 3s 42us/step - loss: 0.6866 - acc: 0.7150\n",
      "Epoch 2/5\n",
      "67890/67890 [==============================] - 3s 38us/step - loss: 0.6699 - acc: 0.7219\n",
      "Epoch 3/5\n",
      "67890/67890 [==============================] - 3s 37us/step - loss: 0.6661 - acc: 0.7228\n",
      "Epoch 4/5\n",
      "67890/67890 [==============================] - 3s 38us/step - loss: 0.6628 - acc: 0.7251\n",
      "Epoch 5/5\n",
      "67890/67890 [==============================] - 3s 39us/step - loss: 0.6604 - acc: 0.7257\n"
     ]
    },
    {
     "data": {
      "text/plain": [
       "<tensorflow.python.keras.callbacks.History at 0x12b66eeb8>"
      ]
     },
     "execution_count": 80,
     "metadata": {},
     "output_type": "execute_result"
    }
   ],
   "source": [
    "model.fit(X_train.as_matrix(), y_train.as_matrix(), epochs=5)"
   ]
  },
  {
   "cell_type": "code",
   "execution_count": 71,
   "metadata": {},
   "outputs": [
    {
     "name": "stdout",
     "output_type": "stream",
     "text": [
      "29096/29096 [==============================] - 1s 24us/step\n"
     ]
    }
   ],
   "source": [
    "test_loss, test_acc = model.evaluate(X_test, y_test)"
   ]
  },
  {
   "cell_type": "code",
   "execution_count": 72,
   "metadata": {},
   "outputs": [],
   "source": [
    "y_pred = model.predict(X_test)"
   ]
  },
  {
   "cell_type": "code",
   "execution_count": 73,
   "metadata": {},
   "outputs": [],
   "source": [
    "y_pred = np.argmax(y_pred, axis=1)"
   ]
  },
  {
   "cell_type": "code",
   "execution_count": 75,
   "metadata": {},
   "outputs": [
    {
     "data": {
      "text/plain": [
       "array([[0.64400605, 0.0380121 , 0.0079736 ],\n",
       "       [0.15572587, 0.05382183, 0.01326643],\n",
       "       [0.03536569, 0.02275227, 0.02907616]])"
      ]
     },
     "execution_count": 75,
     "metadata": {},
     "output_type": "execute_result"
    }
   ],
   "source": [
    "confusion_matrix(y_test, y_pred) / len(y_pred)"
   ]
  },
  {
   "cell_type": "markdown",
   "metadata": {},
   "source": [
    "### Training - Just Behaviors"
   ]
  },
  {
   "cell_type": "code",
   "execution_count": 76,
   "metadata": {},
   "outputs": [],
   "source": [
    "behaviors = [\n",
    "    'ROUTINE_CHECK_BRFSS',\n",
    "    'INTERNET_USE_BRFSS',\n",
    "    'SMK_NOW_BRFSS',\n",
    "    'TRY_QUIT_SMK_BRFSS',\n",
    "    'SNUFF_BRFSS',\n",
    "    'CNSM_FT_DAY_BRFSS',\n",
    "    'PA_CAT_BRFSS',\n",
    "    'AER_STRNGH_GUIDE_BRFSS',\n",
    "    'PHYS_HLTH_LEV_BRFSS',\n",
    "    'HVY_DRNKR_BRFSS',\n",
    "    'AVG_NUM_DRNK_30_BRFSS',\n",
    "    'BINGE_DRNK_30_BRFSS',\n",
    "    'DRNK_PER_DAY_BRFSS',\n",
    "    'DLY_FF_SERVE_BRFSS',\n",
    "    'DLY_FT_SERVE_BRFSS',\n",
    "    'DLY_FJ_SERVE_BRFSS',\n",
    "    'DLY_GRN_VEG_SERVE_BRFSS',\n",
    "    'LARGE_NUM_DRNK_30_BRFSS',\n",
    "    'MET_VAL_BRFSS',\n",
    "    'MET_VAL_OTHR_BRFSS',\n",
    "    'TTL_MIN_OF_PA_WEEK_BRFSS',\n",
    "    'TTL_MIN_OF_VIG_WEEK_BRFSS',\n",
    "    'MIN_OF_PA_WEEK_BRFSS',\n",
    "    'MIN_OF_PA_WEEK_OTHR_BRFSS',\n",
    "    'MIN_OF_VIG_WEEK_BRFSS',\n",
    "    'MIN_OF_VIG_WEEK_OTHR_BRFSS',\n",
    "    'DLY_POTATO_SERVE_BRFSS',\n",
    "    'DLY_OTHR_VEG_SERVE_BRFSS',\n",
    "    'NUM_DRNKS_PER_WEEK_BRFSS',\n",
    "    'TOTAL_FT_DAY_BRFSS',\n",
    "    'MIN_OF_EX_WEEK_BRFSS',\n",
    "    'MIN_OF_EX_WEEK_OTHR_BRFSS',\n",
    "    'TOTAL_VEG_DAY_BRFSS'\n",
    "]"
   ]
  },
  {
   "cell_type": "code",
   "execution_count": 61,
   "metadata": {},
   "outputs": [],
   "source": [
    "model_behaviors = keras.Sequential([\n",
    "    keras.layers.Dense(33, activation=tf.nn.relu),\n",
    "    keras.layers.Dense(10, activation=tf.nn.relu),\n",
    "    keras.layers.Dense(3, activation=tf.nn.softmax)\n",
    "])\n",
    "\n",
    "model_behaviors.compile(optimizer=tf.train.AdamOptimizer(), \n",
    "              loss='sparse_categorical_crossentropy',\n",
    "              metrics=['accuracy'])"
   ]
  },
  {
   "cell_type": "code",
   "execution_count": 62,
   "metadata": {},
   "outputs": [
    {
     "name": "stderr",
     "output_type": "stream",
     "text": [
      "/Users/daadler0309/anaconda/lib/python3.5/site-packages/ipykernel/__main__.py:1: FutureWarning: Method .as_matrix will be removed in a future version. Use .values instead.\n",
      "  if __name__ == '__main__':\n"
     ]
    },
    {
     "name": "stdout",
     "output_type": "stream",
     "text": [
      "Epoch 1/5\n",
      "67890/67890 [==============================] - 2s 37us/step - loss: 0.7666 - acc: 0.6802\n",
      "Epoch 2/5\n",
      "67890/67890 [==============================] - 2s 34us/step - loss: 0.7524 - acc: 0.6829\n",
      "Epoch 3/5\n",
      "67890/67890 [==============================] - 2s 35us/step - loss: 0.7483 - acc: 0.6856\n",
      "Epoch 4/5\n",
      "67890/67890 [==============================] - 2s 34us/step - loss: 0.7458 - acc: 0.6871\n",
      "Epoch 5/5\n",
      "67890/67890 [==============================] - 2s 34us/step - loss: 0.7442 - acc: 0.6877\n"
     ]
    },
    {
     "data": {
      "text/plain": [
       "<tensorflow.python.keras.callbacks.History at 0x12b92cf98>"
      ]
     },
     "execution_count": 62,
     "metadata": {},
     "output_type": "execute_result"
    }
   ],
   "source": [
    "model_behaviors.fit(X_train[behaviors].as_matrix(), y_train.as_matrix(), epochs=5)"
   ]
  },
  {
   "cell_type": "code",
   "execution_count": null,
   "metadata": {
    "collapsed": true
   },
   "outputs": [],
   "source": []
  }
 ],
 "metadata": {
  "kernelspec": {
   "display_name": "Python [conda root]",
   "language": "python",
   "name": "conda-root-py"
  },
  "language_info": {
   "codemirror_mode": {
    "name": "ipython",
    "version": 3
   },
   "file_extension": ".py",
   "mimetype": "text/x-python",
   "name": "python",
   "nbconvert_exporter": "python",
   "pygments_lexer": "ipython3",
   "version": "3.5.4"
  }
 },
 "nbformat": 4,
 "nbformat_minor": 2
}
