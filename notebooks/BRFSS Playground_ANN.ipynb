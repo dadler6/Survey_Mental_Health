{
 "cells": [
  {
   "cell_type": "markdown",
   "metadata": {},
   "source": [
    "# BRFSS Playground - ANN"
   ]
  },
  {
   "cell_type": "markdown",
   "metadata": {},
   "source": [
    "Make an ANN with Tensorflow to predict mental health issues"
   ]
  },
  {
   "cell_type": "code",
   "execution_count": 117,
   "metadata": {},
   "outputs": [],
   "source": [
    "import pandas as pd\n",
    "import numpy as np\n",
    "import tensorflow as tf\n",
    "from tensorflow import keras\n",
    "from sklearn.model_selection import train_test_split\n",
    "from sklearn.metrics import confusion_matrix, f1_score"
   ]
  },
  {
   "cell_type": "code",
   "execution_count": 2,
   "metadata": {
    "collapsed": true
   },
   "outputs": [],
   "source": [
    "brfss_norm = pd.read_csv('../data/brfss_normed.csv.gz')"
   ]
  },
  {
   "cell_type": "code",
   "execution_count": 31,
   "metadata": {},
   "outputs": [
    {
     "data": {
      "text/plain": [
       "(96986, 63)"
      ]
     },
     "execution_count": 31,
     "metadata": {},
     "output_type": "execute_result"
    }
   ],
   "source": [
    "brfss_norm.shape"
   ]
  },
  {
   "cell_type": "markdown",
   "metadata": {},
   "source": [
    "### Small cleaning"
   ]
  },
  {
   "cell_type": "code",
   "execution_count": 77,
   "metadata": {
    "collapsed": true
   },
   "outputs": [],
   "source": [
    "drop_vars = ['B_ID', 'SMP_WGHT', 'MNTL_HLTH_LEV_BRFSS', 'MENTAL_HEALTH_30_BRFSS']\n",
    "brfss_vars = [\n",
    "    c for c in brfss_norm.columns.values if c not in drop_vars\n",
    "]\n",
    "X = brfss_norm[brfss_vars].copy()\n",
    "y = brfss_norm['MNTL_HLTH_LEV_BRFSS'].copy()"
   ]
  },
  {
   "cell_type": "code",
   "execution_count": 78,
   "metadata": {},
   "outputs": [
    {
     "data": {
      "text/plain": [
       "array([1., 2., 0.])"
      ]
     },
     "execution_count": 78,
     "metadata": {},
     "output_type": "execute_result"
    }
   ],
   "source": [
    "y.unique()"
   ]
  },
  {
   "cell_type": "code",
   "execution_count": 79,
   "metadata": {
    "collapsed": true
   },
   "outputs": [],
   "source": [
    "y.loc[y > 0] = 1"
   ]
  },
  {
   "cell_type": "code",
   "execution_count": 80,
   "metadata": {},
   "outputs": [
    {
     "data": {
      "text/plain": [
       "0.0    0.68413\n",
       "1.0    0.31587\n",
       "Name: MNTL_HLTH_LEV_BRFSS, dtype: float64"
      ]
     },
     "execution_count": 80,
     "metadata": {},
     "output_type": "execute_result"
    }
   ],
   "source": [
    "y.value_counts(normalize=True)"
   ]
  },
  {
   "cell_type": "code",
   "execution_count": 81,
   "metadata": {
    "collapsed": true
   },
   "outputs": [],
   "source": [
    "y_dummy = pd.get_dummies(y)"
   ]
  },
  {
   "cell_type": "markdown",
   "metadata": {},
   "source": [
    "Split training/test"
   ]
  },
  {
   "cell_type": "code",
   "execution_count": 88,
   "metadata": {
    "collapsed": true
   },
   "outputs": [],
   "source": [
    "X_train, X_test, y_train, y_test = train_test_split(X, y_dummy, test_size=0.3, random_state=42)"
   ]
  },
  {
   "cell_type": "code",
   "execution_count": 89,
   "metadata": {},
   "outputs": [
    {
     "data": {
      "text/plain": [
       "(67890, 59)"
      ]
     },
     "execution_count": 89,
     "metadata": {},
     "output_type": "execute_result"
    }
   ],
   "source": [
    "X_train.shape"
   ]
  },
  {
   "cell_type": "markdown",
   "metadata": {},
   "source": [
    "### Training - All Variables"
   ]
  },
  {
   "cell_type": "code",
   "execution_count": 94,
   "metadata": {
    "collapsed": true
   },
   "outputs": [],
   "source": [
    "model = keras.Sequential([\n",
    "    keras.layers.Dense(59, activation=tf.nn.relu),\n",
    "    keras.layers.Dense(2, activation=tf.nn.softmax)\n",
    "])"
   ]
  },
  {
   "cell_type": "code",
   "execution_count": 95,
   "metadata": {
    "collapsed": true
   },
   "outputs": [],
   "source": [
    "model.compile(optimizer=tf.train.AdamOptimizer(), \n",
    "              loss='binary_crossentropy',\n",
    "              metrics=['accuracy'])"
   ]
  },
  {
   "cell_type": "code",
   "execution_count": 96,
   "metadata": {},
   "outputs": [
    {
     "data": {
      "text/plain": [
       "0.0    46275\n",
       "1.0    21615\n",
       "dtype: int64"
      ]
     },
     "execution_count": 96,
     "metadata": {},
     "output_type": "execute_result"
    }
   ],
   "source": [
    "y_train.sum()"
   ]
  },
  {
   "cell_type": "code",
   "execution_count": 97,
   "metadata": {},
   "outputs": [
    {
     "name": "stderr",
     "output_type": "stream",
     "text": [
      "/Users/daadler0309/anaconda/lib/python3.5/site-packages/ipykernel/__main__.py:1: FutureWarning: Method .as_matrix will be removed in a future version. Use .values instead.\n",
      "  if __name__ == '__main__':\n"
     ]
    },
    {
     "name": "stdout",
     "output_type": "stream",
     "text": [
      "Epoch 1/5\n",
      "67890/67890 [==============================] - 4s 59us/step - loss: 0.5168 - acc: 0.7599\n",
      "Epoch 2/5\n",
      "67890/67890 [==============================] - 4s 55us/step - loss: 0.5065 - acc: 0.7640\n",
      "Epoch 3/5\n",
      "67890/67890 [==============================] - 4s 53us/step - loss: 0.5043 - acc: 0.7653\n",
      "Epoch 4/5\n",
      "67890/67890 [==============================] - 3s 48us/step - loss: 0.5023 - acc: 0.7658\n",
      "Epoch 5/5\n",
      "67890/67890 [==============================] - 3s 46us/step - loss: 0.5011 - acc: 0.7671\n"
     ]
    },
    {
     "data": {
      "text/plain": [
       "<tensorflow.python.keras.callbacks.History at 0x12596dcc0>"
      ]
     },
     "execution_count": 97,
     "metadata": {},
     "output_type": "execute_result"
    }
   ],
   "source": [
    "model.fit(X_train.as_matrix(), y_train.as_matrix(), epochs=5)"
   ]
  },
  {
   "cell_type": "code",
   "execution_count": 98,
   "metadata": {},
   "outputs": [
    {
     "name": "stdout",
     "output_type": "stream",
     "text": [
      "29096/29096 [==============================] - 1s 35us/step\n"
     ]
    }
   ],
   "source": [
    "test_loss, test_acc = model.evaluate(X_test, y_test)"
   ]
  },
  {
   "cell_type": "code",
   "execution_count": 125,
   "metadata": {},
   "outputs": [
    {
     "data": {
      "text/plain": [
       "0.7655347814132527"
      ]
     },
     "execution_count": 125,
     "metadata": {},
     "output_type": "execute_result"
    }
   ],
   "source": [
    "test_acc"
   ]
  },
  {
   "cell_type": "code",
   "execution_count": 104,
   "metadata": {
    "collapsed": true
   },
   "outputs": [],
   "source": [
    "y_pred = model.predict(X_test)"
   ]
  },
  {
   "cell_type": "code",
   "execution_count": 119,
   "metadata": {},
   "outputs": [
    {
     "name": "stderr",
     "output_type": "stream",
     "text": [
      "/Users/daadler0309/anaconda/lib/python3.5/site-packages/ipykernel/__main__.py:1: FutureWarning: Method .as_matrix will be removed in a future version. Use .values instead.\n",
      "  if __name__ == '__main__':\n"
     ]
    },
    {
     "data": {
      "text/plain": [
       "0.5309405940594059"
      ]
     },
     "execution_count": 119,
     "metadata": {},
     "output_type": "execute_result"
    }
   ],
   "source": [
    "f1_score(np.argmax(y_test.as_matrix(), axis=1), np.argmax(y_pred, axis=1))"
   ]
  },
  {
   "cell_type": "markdown",
   "metadata": {},
   "source": [
    "### Training - Just Behaviors"
   ]
  },
  {
   "cell_type": "code",
   "execution_count": 120,
   "metadata": {
    "collapsed": true
   },
   "outputs": [],
   "source": [
    "behaviors = [\n",
    "    'ROUTINE_CHECK_BRFSS',\n",
    "    'INTERNET_USE_BRFSS',\n",
    "    'SMK_NOW_BRFSS',\n",
    "    'TRY_QUIT_SMK_BRFSS',\n",
    "    'SNUFF_BRFSS',\n",
    "    'CNSM_FT_DAY_BRFSS',\n",
    "    'PA_CAT_BRFSS',\n",
    "    'AER_STRNGH_GUIDE_BRFSS',\n",
    "    'PHYS_HLTH_LEV_BRFSS',\n",
    "    'HVY_DRNKR_BRFSS',\n",
    "    'AVG_NUM_DRNK_30_BRFSS',\n",
    "    'BINGE_DRNK_30_BRFSS',\n",
    "    'DRNK_PER_DAY_BRFSS',\n",
    "    'DLY_FF_SERVE_BRFSS',\n",
    "    'DLY_FT_SERVE_BRFSS',\n",
    "    'DLY_FJ_SERVE_BRFSS',\n",
    "    'DLY_GRN_VEG_SERVE_BRFSS',\n",
    "    'LARGE_NUM_DRNK_30_BRFSS',\n",
    "    'MET_VAL_BRFSS',\n",
    "    'MET_VAL_OTHR_BRFSS',\n",
    "    'TTL_MIN_OF_PA_WEEK_BRFSS',\n",
    "    'TTL_MIN_OF_VIG_WEEK_BRFSS',\n",
    "    'MIN_OF_PA_WEEK_BRFSS',\n",
    "    'MIN_OF_PA_WEEK_OTHR_BRFSS',\n",
    "    'MIN_OF_VIG_WEEK_BRFSS',\n",
    "    'MIN_OF_VIG_WEEK_OTHR_BRFSS',\n",
    "    'DLY_POTATO_SERVE_BRFSS',\n",
    "    'DLY_OTHR_VEG_SERVE_BRFSS',\n",
    "    'NUM_DRNKS_PER_WEEK_BRFSS',\n",
    "    'TOTAL_FT_DAY_BRFSS',\n",
    "    'MIN_OF_EX_WEEK_BRFSS',\n",
    "    'MIN_OF_EX_WEEK_OTHR_BRFSS',\n",
    "    'TOTAL_VEG_DAY_BRFSS'\n",
    "]"
   ]
  },
  {
   "cell_type": "code",
   "execution_count": 123,
   "metadata": {
    "collapsed": true
   },
   "outputs": [],
   "source": [
    "model_behaviors = keras.Sequential([\n",
    "    keras.layers.Dense(33, activation=tf.nn.relu),\n",
    "    keras.layers.Dense(10, activation=tf.nn.relu),\n",
    "    keras.layers.Dense(10, activation=tf.nn.relu),\n",
    "    keras.layers.Dense(2, activation=tf.nn.softmax)\n",
    "])\n",
    "\n",
    "model_behaviors.compile(optimizer=tf.train.AdamOptimizer(), \n",
    "              loss='binary_crossentropy',\n",
    "              metrics=['accuracy'])"
   ]
  },
  {
   "cell_type": "code",
   "execution_count": 124,
   "metadata": {},
   "outputs": [
    {
     "name": "stderr",
     "output_type": "stream",
     "text": [
      "/Users/daadler0309/anaconda/lib/python3.5/site-packages/ipykernel/__main__.py:1: FutureWarning: Method .as_matrix will be removed in a future version. Use .values instead.\n",
      "  if __name__ == '__main__':\n"
     ]
    },
    {
     "name": "stdout",
     "output_type": "stream",
     "text": [
      "Epoch 1/10\n",
      "67890/67890 [==============================] - 4s 62us/step - loss: 0.5873 - acc: 0.6964\n",
      "Epoch 2/10\n",
      "67890/67890 [==============================] - 4s 55us/step - loss: 0.5765 - acc: 0.7042\n",
      "Epoch 3/10\n",
      "67890/67890 [==============================] - 4s 57us/step - loss: 0.5744 - acc: 0.7053\n",
      "Epoch 4/10\n",
      "67890/67890 [==============================] - 4s 59us/step - loss: 0.5735 - acc: 0.7073\n",
      "Epoch 5/10\n",
      "67890/67890 [==============================] - 4s 54us/step - loss: 0.5723 - acc: 0.7084\n",
      "Epoch 6/10\n",
      "67890/67890 [==============================] - 4s 54us/step - loss: 0.5716 - acc: 0.7079\n",
      "Epoch 7/10\n",
      "67890/67890 [==============================] - 4s 53us/step - loss: 0.5708 - acc: 0.7095\n",
      "Epoch 8/10\n",
      "67890/67890 [==============================] - 4s 52us/step - loss: 0.5701 - acc: 0.7100\n",
      "Epoch 9/10\n",
      "67890/67890 [==============================] - 4s 52us/step - loss: 0.5692 - acc: 0.7102\n",
      "Epoch 10/10\n",
      "67890/67890 [==============================] - 3s 51us/step - loss: 0.5692 - acc: 0.7097\n"
     ]
    },
    {
     "data": {
      "text/plain": [
       "<tensorflow.python.keras.callbacks.History at 0x123f224a8>"
      ]
     },
     "execution_count": 124,
     "metadata": {},
     "output_type": "execute_result"
    }
   ],
   "source": [
    "model_behaviors.fit(X_train[behaviors].as_matrix(), y_train.as_matrix(), epochs=10)"
   ]
  },
  {
   "cell_type": "code",
   "execution_count": 129,
   "metadata": {
    "collapsed": true
   },
   "outputs": [],
   "source": [
    "y_pred = model_behaviors.predict(X_test[behaviors])"
   ]
  },
  {
   "cell_type": "code",
   "execution_count": 131,
   "metadata": {},
   "outputs": [
    {
     "name": "stderr",
     "output_type": "stream",
     "text": [
      "/Users/daadler0309/anaconda/lib/python3.5/site-packages/ipykernel/__main__.py:1: FutureWarning: Method .as_matrix will be removed in a future version. Use .values instead.\n",
      "  if __name__ == '__main__':\n"
     ]
    },
    {
     "data": {
      "text/plain": [
       "0.37584971858782257"
      ]
     },
     "execution_count": 131,
     "metadata": {},
     "output_type": "execute_result"
    }
   ],
   "source": [
    "f1_score(np.argmax(y_test.as_matrix(), axis=1), np.argmax(y_pred, axis=1))"
   ]
  }
 ],
 "metadata": {
  "kernelspec": {
   "display_name": "Python [conda root]",
   "language": "python",
   "name": "conda-root-py"
  },
  "language_info": {
   "codemirror_mode": {
    "name": "ipython",
    "version": 3
   },
   "file_extension": ".py",
   "mimetype": "text/x-python",
   "name": "python",
   "nbconvert_exporter": "python",
   "pygments_lexer": "ipython3",
   "version": "3.5.4"
  }
 },
 "nbformat": 4,
 "nbformat_minor": 2
}
